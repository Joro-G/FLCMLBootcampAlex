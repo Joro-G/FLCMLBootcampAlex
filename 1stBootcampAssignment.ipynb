{
  "nbformat": 4,
  "nbformat_minor": 0,
  "metadata": {
    "colab": {
      "provenance": [],
      "include_colab_link": true
    },
    "kernelspec": {
      "name": "python3",
      "display_name": "Python 3"
    },
    "language_info": {
      "name": "python"
    }
  },
  "cells": [
    {
      "cell_type": "markdown",
      "metadata": {
        "id": "view-in-github",
        "colab_type": "text"
      },
      "source": [
        "<a href=\"https://colab.research.google.com/github/Joro-G/FLCMLBootcampAlex/blob/main/1stBootcampAssignment.ipynb\" target=\"_parent\"><img src=\"https://colab.research.google.com/assets/colab-badge.svg\" alt=\"Open In Colab\"/></a>"
      ]
    },
    {
      "cell_type": "markdown",
      "source": [
        "# Personal Finance 101 with Python\n",
        "\n",
        "- Investing is crucial for wealth growth, financial security, and achieving long-term financial goals.\n",
        "- One of the biggest reasons to invest is the power of compounding, which allows your money to grow exponentially over time."
      ],
      "metadata": {
        "id": "BGhlVvcyZGWp"
      }
    },
    {
      "cell_type": "markdown",
      "source": [
        "### Understanding the Compounding Effect\n",
        "\n",
        "$$ A = P * \\left( 1 + \\frac{r}{n} \\right) ^{n*t}$$\n",
        "\n",
        "Where,\n",
        "\n",
        "- A  = Final amount\n",
        "- P  = Principal (initial investment)\n",
        "- r  = Annual interest rate (as a decimal)\n",
        "- n  = Times interest is compounded per year\n",
        "- t  = Time in years\n"
      ],
      "metadata": {
        "id": "zyYa0RR2L_8n"
      }
    },
    {
      "cell_type": "code",
      "execution_count": null,
      "metadata": {
        "id": "XrEjSeR5UQVl",
        "colab": {
          "base_uri": "https://localhost:8080/"
        },
        "outputId": "9b1b39de-fe11-438b-83a4-01e88d1dd6a1"
      },
      "outputs": [
        {
          "output_type": "stream",
          "name": "stdout",
          "text": [
            "Compound Interest Calculator Results:\n",
            "Principal Amount: $1000.00\n",
            "Annual Interest Rate: 6.00%\n",
            "Compounding Frequency: 1 times per year\n",
            "Number of Years: 10\n",
            "Total Amount: $1790.85\n",
            "Total Interest Earned: $60.00\n"
          ]
        }
      ],
      "source": [
        "#@title Compound Interest Calculator\n",
        "\n",
        "#@markdown Enter the principal amount (P in $):\n",
        "principal = 1000 #@param {type:\"number\"}\n",
        "\n",
        "#@markdown Enter the annual interest rate as a percentage (r):\n",
        "interest_rate = 6 #@param {type:\"number\"}\n",
        "\n",
        "#@markdown Enter the number of times interest is compounded per year (n):\n",
        "compounding_frequency = 1 #@param {type:\"number\"}\n",
        "\n",
        "#@markdown Enter the number of years (t):\n",
        "years = 10 #@param {type:\"number\"}\n",
        "\n",
        "\n",
        "# Calculate compound interest\n",
        "# 1. Convert percentage into decimal\n",
        "interest_rate_decimal = interest_rate/100\n",
        "\n",
        "\n",
        "# 2. Calculate the final amount (A)\n",
        "final_amount = principal * ((1+(interest_rate_decimal/compounding_frequency))**(compounding_frequency * years))\n",
        "\n",
        "\n",
        "# 3. Calculate the total interest earned\n",
        "total_interest = principal*(((1 + interest_rate_decimal)**compounding_frequency) -1 )\n",
        "\n",
        "\n",
        "# Display the results\n",
        "print(\"Compound Interest Calculator Results:\")\n",
        "print(f\"Principal Amount: ${principal:.2f}\")\n",
        "print(f\"Annual Interest Rate: {interest_rate:.2f}%\")\n",
        "print(f\"Compounding Frequency: {compounding_frequency} times per year\")\n",
        "print(f\"Number of Years: {years}\")\n",
        "print(f\"Total Amount: ${final_amount:.2f}\")\n",
        "print(f\"Total Interest Earned: ${total_interest:.2f}\")\n"
      ]
    },
    {
      "cell_type": "markdown",
      "source": [
        "### Effect of starting principal (P)\n",
        "\n",
        "Write a function to calculate total amount and total interest earned for starting principal (P in $): 10, 50, 100, 500 and 1000. Assume r=5%, n=1 and t=5.\n",
        "\n",
        "Hint: Iterate over a list data structure containing 'P' values using a compound interest calculator function"
      ],
      "metadata": {
        "id": "ScJlnZfEbTUH"
      }
    },
    {
      "cell_type": "code",
      "source": [
        "# Calculate the effect of starting principal (more 'P')\n",
        "principalValues = [10, 50, 100, 500, 1000]\n",
        "rate = 0.05\n",
        "n = 1\n",
        "t = 5\n",
        "\n",
        "def calculateFinalAmount():\n",
        "  for i in range(len(principalValues)):\n",
        "    finalAmount = principalValues[i]*((1+(rate/n))**(n*t))\n",
        "    print(f\"The final amount (A) for principal value ${principalValues[i]} compounded {n} time(s) per {t} year(s) at {rate*100}% is: ${finalAmount:.2f}\")\n",
        "\n",
        "calculateFinalAmount()"
      ],
      "metadata": {
        "id": "MICZ2cnDbrZg",
        "colab": {
          "base_uri": "https://localhost:8080/"
        },
        "outputId": "e34b83af-7a3f-49de-9368-cde1c94a532f"
      },
      "execution_count": null,
      "outputs": [
        {
          "output_type": "stream",
          "name": "stdout",
          "text": [
            "The final amount (A) for principal value $10 compounded 1 time(s) per 5 year(s) at 5.0% is: $12.76\n",
            "The final amount (A) for principal value $50 compounded 1 time(s) per 5 year(s) at 5.0% is: $63.81\n",
            "The final amount (A) for principal value $100 compounded 1 time(s) per 5 year(s) at 5.0% is: $127.63\n",
            "The final amount (A) for principal value $500 compounded 1 time(s) per 5 year(s) at 5.0% is: $638.14\n",
            "The final amount (A) for principal value $1000 compounded 1 time(s) per 5 year(s) at 5.0% is: $1276.28\n"
          ]
        }
      ]
    },
    {
      "cell_type": "markdown",
      "source": [
        "#### Write a simple conclusion on what the effect of starting principal (more 'P') is on a compounding interest investment?"
      ],
      "metadata": {
        "id": "BIcD3dEecSpq"
      }
    },
    {
      "cell_type": "code",
      "source": [
        "# The higher the P value, the higher the final amount (A) ends up being."
      ],
      "metadata": {
        "id": "gCpivos6chhj"
      },
      "execution_count": null,
      "outputs": []
    },
    {
      "cell_type": "markdown",
      "source": [
        "### Effect of starting early (more years of investing = more 't')\n",
        "\n",
        "Reuse the compounding interest calculator function above and determine the effect of more years of investing 't': 2yrs, 5yrs, 10yrs, 20yrs, 30yrs. Assume P=\\$100, r=5% and n=1."
      ],
      "metadata": {
        "id": "3Zi_t5Ftcsw1"
      }
    },
    {
      "cell_type": "code",
      "source": [
        "# Calculate the effect of starting early (more 't')\n",
        "principalValue = 100\n",
        "rate = 0.05\n",
        "n = 1\n",
        "t = [2, 5, 10, 20]\n",
        "\n",
        "def calculateFinalAmount():\n",
        "  for i in range(len(t)):\n",
        "    finalAmount = principalValue*((1+(rate/n))**(n*t[i]))\n",
        "    print(f\"The final amount (A) for principal value ${principalValue} compounded {n} time(s) per {t[i]} year(s) at {rate*100}% is: ${finalAmount:.2f}\")\n",
        "\n",
        "calculateFinalAmount()\n"
      ],
      "metadata": {
        "id": "a5jHCG7NdcBf",
        "colab": {
          "base_uri": "https://localhost:8080/"
        },
        "outputId": "ace5001c-a81f-4670-a069-63aafaf49fab"
      },
      "execution_count": null,
      "outputs": [
        {
          "output_type": "stream",
          "name": "stdout",
          "text": [
            "The final amount (A) for principal value $100 compounded 1 time(s) per 2 year(s) at 5.0% is: $110.25\n",
            "The final amount (A) for principal value $100 compounded 1 time(s) per 5 year(s) at 5.0% is: $127.63\n",
            "The final amount (A) for principal value $100 compounded 1 time(s) per 10 year(s) at 5.0% is: $162.89\n",
            "The final amount (A) for principal value $100 compounded 1 time(s) per 20 year(s) at 5.0% is: $265.33\n"
          ]
        }
      ]
    },
    {
      "cell_type": "markdown",
      "source": [
        "#### Write a simple conclusion on what the effect of starting early (more 't') is on a compounding interest investment?\n"
      ],
      "metadata": {
        "id": "dkDFHmiNdosi"
      }
    },
    {
      "cell_type": "code",
      "source": [
        "# The earlier you start saving money, the more it is able to compound. The more it compounds, the more money you make.\n",
        "# Therefore saving money earlier and letting it compound longer leads to more money later on."
      ],
      "metadata": {
        "id": "cDK6tCJrj2m3"
      },
      "execution_count": null,
      "outputs": []
    },
    {
      "cell_type": "markdown",
      "source": [
        "### Effect of better rate of return (more 'r')\n",
        "\n",
        "Reuse the compounding interest calculator function above and determine the effect of better rate of return 'r': 2%, 5%, 8% and 10%. Assume P=$100, n=1 and t=5."
      ],
      "metadata": {
        "id": "b4HolM8adwzl"
      }
    },
    {
      "cell_type": "code",
      "source": [
        "# Calculate the effect of better rate of return (more 'r')\n",
        "principalValue = 100\n",
        "rate = [0.02, 0.05, 0.08, 0.10]\n",
        "n = 1\n",
        "t = 5\n",
        "\n",
        "def calculateFinalAmount():\n",
        "  for i in range(len(rate)):\n",
        "    finalAmount = principalValue*((1+(rate[i]/n))**(n*t))\n",
        "    print(f\"The final amount (A) for principal value ${principalValue} compounded {n} time(s) per {t} year(s) at {rate[i]*100}% is: ${finalAmount:.2f}\")\n",
        "\n",
        "calculateFinalAmount()\n",
        "\n"
      ],
      "metadata": {
        "id": "pbcjQ24Kew56",
        "colab": {
          "base_uri": "https://localhost:8080/"
        },
        "outputId": "329addc1-0492-42fd-cef7-345ce2f1aa0a"
      },
      "execution_count": null,
      "outputs": [
        {
          "output_type": "stream",
          "name": "stdout",
          "text": [
            "The final amount (A) for principal value $100 compounded 1 time(s) per 5 year(s) at 2.0% is: $110.41\n",
            "The final amount (A) for principal value $100 compounded 1 time(s) per 5 year(s) at 5.0% is: $127.63\n",
            "The final amount (A) for principal value $100 compounded 1 time(s) per 5 year(s) at 8.0% is: $146.93\n",
            "The final amount (A) for principal value $100 compounded 1 time(s) per 5 year(s) at 10.0% is: $161.05\n"
          ]
        }
      ]
    },
    {
      "cell_type": "markdown",
      "source": [
        "#### Write a simple conclusion on what the effect of better rate of return (more 'r') is on a compounding interest investment?"
      ],
      "metadata": {
        "id": "q5ihxgcKez4g"
      }
    },
    {
      "cell_type": "markdown",
      "source": [
        "### What happens to a compounding interest investment if you also do recurring investment (adding fixed \\$ amount in a fixed time frequency into the principal 'P')"
      ],
      "metadata": {
        "id": "8RPUEsNYe7nw"
      }
    },
    {
      "cell_type": "code",
      "source": [
        "# Write a new python function that will also take a fixed recurring deposit 'rd' every month to calculate compounding interest\n",
        "principal = int(input(\"What is your principal investment? \"))\n",
        "recurringDeposit = int(input(\"How much would you like to deposit on a recurring basis? \"))\n",
        "rate = 0.05\n",
        "n = 1\n",
        "t = 5\n",
        "\n",
        "\n",
        "def calculateFinalAmount():\n",
        "  print(f\"You have chosen to deposit a recurring amount of ${recurringDeposit} over {t} year(s).\")\n",
        "  finalAmount = (principal*((1+(rate/n))**(n*t)))+recurringDeposit\n",
        "  for i in range(t-1):\n",
        "    finalAmount = ((principal*((1+(rate/n))**(n*t))) + finalAmount) + recurringDeposit\n",
        "    print(f\"The final amount (A) for principal value ${principal} with a recurring deposit of {recurringDeposit} compounded {n} time(s) per {i} year(s) at {rate*100}% is: ${finalAmount:.2f}\")\n",
        "\n",
        "calculateFinalAmount()\n",
        "\n"
      ],
      "metadata": {
        "id": "PXVG53KdffHD",
        "colab": {
          "base_uri": "https://localhost:8080/"
        },
        "outputId": "c3693a0a-d70e-4748-dde2-98609b909237"
      },
      "execution_count": null,
      "outputs": [
        {
          "output_type": "stream",
          "name": "stdout",
          "text": [
            "What is your principal investment? 10\n",
            "How much would you like to deposit on a recurring basis? 5\n",
            "You have chosen to deposit a recurring amount of $5 over 5 year(s).\n",
            "The final amount (A) for principal value $10 with a recurring deposit of 5 compounded 1 time(s) per 0 year(s) at 5.0% is: $35.53\n",
            "The final amount (A) for principal value $10 with a recurring deposit of 5 compounded 1 time(s) per 1 year(s) at 5.0% is: $53.29\n",
            "The final amount (A) for principal value $10 with a recurring deposit of 5 compounded 1 time(s) per 2 year(s) at 5.0% is: $71.05\n",
            "The final amount (A) for principal value $10 with a recurring deposit of 5 compounded 1 time(s) per 3 year(s) at 5.0% is: $88.81\n"
          ]
        }
      ]
    },
    {
      "cell_type": "markdown",
      "source": [
        "#### What is the effect of disciplined investing using recurring deposits?\n",
        "\n",
        "Use the new compounding interest calculator with recurring investment to calculate the effect of disciplined investing. Assume P=$100, r=5%, n=12 (monthly compounding), t=5.\n",
        "\n",
        "Calculate for different 'rd' (in $): 0, 1, 5, 10, 50, 100"
      ],
      "metadata": {
        "id": "WoKmXBp3gaeN"
      }
    },
    {
      "cell_type": "code",
      "source": [
        "# Write code to calculate the final_amount (A) for recurring deposits into monthly compounding investment\n",
        "principal = 100\n",
        "recurringDeposit = [0, 1, 5, 10, 50, 100]\n",
        "rate = 0.05\n",
        "n = 12\n",
        "t = 5\n",
        "\n",
        "\n",
        "def calculateFinalAmount():\n",
        "  finalAmount = principal\n",
        "  for i in range(t+1):\n",
        "    if (i != 5):\n",
        "      print(f\"You have chosen to deposit an amount of ${recurringDeposit[i]} in year {i}.\")\n",
        "      finalAmount = ((principal*((1+(rate/n))**(n*t))) + finalAmount) + recurringDeposit[i]\n",
        "      print(f\"The final amount for your initial ${principal} with a deposit of {recurringDeposit[i]} this year, compounded {n} time(s) per {i} year(s) at {rate*100}% is: ${finalAmount:.2f}\")\n",
        "    else:\n",
        "      finalAmount = ((principal*((1+(rate/n))**(n*t))) + finalAmount) + recurringDeposit[i]\n",
        "      print(f\"The final amount for your initial ${principal} with a deposit of {recurringDeposit[i]} this year, compounded {n} time(s) per {i} year(s) at {rate*100}% is: ${finalAmount:.2f}\")\n",
        "\n",
        "calculateFinalAmount()\n",
        "\n"
      ],
      "metadata": {
        "id": "gz8NLxgzhHlU",
        "colab": {
          "base_uri": "https://localhost:8080/"
        },
        "outputId": "83732f36-dcad-498a-d6f9-a7e0620b9f6e"
      },
      "execution_count": null,
      "outputs": [
        {
          "output_type": "stream",
          "name": "stdout",
          "text": [
            "You have chosen to deposit an amount of $0 in year 0.\n",
            "The final amount for your initial $100 with a deposit of 0 this year, compounded 12 time(s) per 0 year(s) at 5.0% is: $228.34\n",
            "You have chosen to deposit an amount of $1 in year 1.\n",
            "The final amount for your initial $100 with a deposit of 1 this year, compounded 12 time(s) per 1 year(s) at 5.0% is: $357.67\n",
            "You have chosen to deposit an amount of $5 in year 2.\n",
            "The final amount for your initial $100 with a deposit of 5 this year, compounded 12 time(s) per 2 year(s) at 5.0% is: $491.01\n",
            "You have chosen to deposit an amount of $10 in year 3.\n",
            "The final amount for your initial $100 with a deposit of 10 this year, compounded 12 time(s) per 3 year(s) at 5.0% is: $629.34\n",
            "You have chosen to deposit an amount of $50 in year 4.\n",
            "The final amount for your initial $100 with a deposit of 50 this year, compounded 12 time(s) per 4 year(s) at 5.0% is: $807.68\n",
            "The final amount for your initial $100 with a deposit of 100 this year, compounded 12 time(s) per 5 year(s) at 5.0% is: $1036.02\n"
          ]
        }
      ]
    },
    {
      "cell_type": "markdown",
      "source": [
        "#### Write a simple conclusion on what is the effect of disciplined investing using recurring deposits?"
      ],
      "metadata": {
        "id": "HzaDkeEmhRTd"
      }
    },
    {
      "cell_type": "code",
      "source": [
        "# The effect of disciplined investing using recurring deposits is more money accumulated in the bank account.\n",
        "# Discipline is a profitable virtue"
      ],
      "metadata": {
        "id": "yVkG-JVfy7cl"
      },
      "execution_count": null,
      "outputs": []
    },
    {
      "cell_type": "markdown",
      "source": [
        "### What problems/decisions that you face in life can be solved using basic Python programming? Share atleast two ideas.\n",
        "\n",
        "- A celsius to fahrenheit calculator\n",
        "- Random number generator\n",
        "- Coin flip for those who don't carry coins\n",
        "\n",
        "\n"
      ],
      "metadata": {
        "id": "V1SICqGdi3bu"
      }
    },
    {
      "cell_type": "markdown",
      "source": [
        "# Final Retrospection:\n",
        "### What challenges did you face while programming with Python?\n",
        "- The biggest challenge I faced was getting used to coding in Python again and remembering the techniques used to streamline programs.\n",
        "\n",
        "\n",
        "### How did you overcome those challenges?\n",
        "- I overcame these challenges through meticulous thought, strategic searching, and proofreading.\n",
        "\n",
        "\n",
        "### Mention other resources you used to solve this take-home assignment\n",
        "- I used Google and ChatGPT just to explain math concepts and get clarification on syntax.\n",
        "\n",
        "\n",
        "### Did you use any tools (like ChatGPT) to solve the issues? What are the challenges and opportunities?\n",
        "- Yes. I found it challenging to leave out information to maximize learning but I found that these resources would suggest more efficient ways of going about the problem.\n",
        "\n",
        "\n",
        "### After this exercise, are you feeling excited to learn more?\n",
        "- I am feeling excited to learn more! Although, I'll have to give Python more attention and time in order to succeed.\n",
        "\n",
        "\n",
        "\n",
        "NOTE: Save the file with your code and text answers before committing it to your new GitHub public repository. Send a link to your file on Github to the TA."
      ],
      "metadata": {
        "id": "gnnYEjdqhh7f"
      }
    }
  ]
}